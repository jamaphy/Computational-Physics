{
  "nbformat": 4,
  "nbformat_minor": 0,
  "metadata": {
    "celltoolbar": "Raw Cell Format",
    "kernelspec": {
      "display_name": "Python 3",
      "language": "python",
      "name": "python3"
    },
    "language_info": {
      "codemirror_mode": {
        "name": "ipython",
        "version": 3
      },
      "file_extension": ".py",
      "mimetype": "text/x-python",
      "name": "python",
      "nbconvert_exporter": "python",
      "pygments_lexer": "ipython3",
      "version": "3.6.8"
    },
    "colab": {
      "name": "ComPhy-1-Python.ipynb",
      "provenance": [],
      "collapsed_sections": [
        "MmzIfhAgkkFL",
        "Fxk23DIkkkFO",
        "oKHFDpDOkkFR",
        "yetLbIMJkkFU",
        "1EYDR-26kkFV",
        "iYeySGaKkkFW",
        "6pLX2_WYkkFX",
        "SBFBrW9vkkFZ",
        "67o7RFy6kkFc",
        "BcC9-mE3kkFf",
        "O6EtFjHskkFf",
        "MeOc3hdhkkFg",
        "JeJ446ZgkkFh",
        "H1b7-HCKkkFh",
        "0RQwI8z2kkFi",
        "oJq4jVmikkFj",
        "xPrwVrUzkkFj",
        "ewTdVJvgkkFj",
        "9dreo4OEkkFj"
      ]
    }
  },
  "cells": [
    {
      "cell_type": "markdown",
      "metadata": {
        "id": "miy_xjDckkFE"
      },
      "source": [
        "[![Open In Colab](https://colab.research.google.com/assets/colab-badge.svg)](https://colab.research.google.com/github/monttj/computational-physics/blob/2021/ComPhy-1-Python.ipynb)"
      ]
    },
    {
      "cell_type": "markdown",
      "metadata": {
        "id": "KCV4_LuTkkFI"
      },
      "source": [
        "# Introudction to Python"
      ]
    },
    {
      "cell_type": "markdown",
      "metadata": {
        "id": "iBRryvqIkkFI"
      },
      "source": [
        "In this exercise, you will learn the basics of python computer language. You can either login to the dedicated server and run the jupyter or just click the button above to switch to Colab. "
      ]
    },
    {
      "cell_type": "markdown",
      "metadata": {
        "id": "mUIrFBkEkkFI"
      },
      "source": [
        "### Excute"
      ]
    },
    {
      "cell_type": "code",
      "metadata": {
        "id": "Cc0VSTOCkkFJ",
        "colab": {
          "base_uri": "https://localhost:8080/"
        },
        "outputId": "1b3c11e2-903b-40f1-9c81-e04944b15fa7"
      },
      "source": [
        "ls *.py"
      ],
      "execution_count": null,
      "outputs": [
        {
          "output_type": "stream",
          "text": [
            "myParticle.py\n"
          ],
          "name": "stdout"
        }
      ]
    },
    {
      "cell_type": "code",
      "metadata": {
        "id": "RZgKd9HIkkFJ",
        "colab": {
          "base_uri": "https://localhost:8080/"
        },
        "outputId": "b93c7e37-1db7-45ff-a6f7-366c0664234e"
      },
      "source": [
        "cat hello_python.py"
      ],
      "execution_count": null,
      "outputs": [
        {
          "output_type": "stream",
          "text": [
            "cat: hello_python.py: No such file or directory\n"
          ],
          "name": "stdout"
        }
      ]
    },
    {
      "cell_type": "markdown",
      "metadata": {
        "id": "xzRjSgtxkkFJ"
      },
      "source": [
        "##### answer:\n",
        "```\n",
        "#!/usr/bin/env python\n",
        "\n",
        "print \"Hello world!\"\n",
        "```"
      ]
    },
    {
      "cell_type": "code",
      "metadata": {
        "id": "hjlUqzjdkkFK",
        "colab": {
          "base_uri": "https://localhost:8080/"
        },
        "outputId": "363a9a74-439e-4d89-e76f-2f89e48a8a6d"
      },
      "source": [
        "!python hello_python.py"
      ],
      "execution_count": null,
      "outputs": [
        {
          "output_type": "stream",
          "text": [
            "python3: can't open file 'hello_python.py': [Errno 2] No such file or directory\n"
          ],
          "name": "stdout"
        }
      ]
    },
    {
      "cell_type": "markdown",
      "metadata": {
        "id": "c__2c7XlkkFK"
      },
      "source": [
        "##### answer:\n",
        "```\n",
        "Hello world!\n",
        "```"
      ]
    },
    {
      "cell_type": "markdown",
      "metadata": {
        "id": "wVpiWj3DkkFK"
      },
      "source": [
        "### Print"
      ]
    },
    {
      "cell_type": "code",
      "metadata": {
        "id": "jrAMthtFkkFK"
      },
      "source": [
        "a = \"Hello World!\""
      ],
      "execution_count": null,
      "outputs": []
    },
    {
      "cell_type": "code",
      "metadata": {
        "id": "G1Ud9sw6kkFK",
        "colab": {
          "base_uri": "https://localhost:8080/"
        },
        "outputId": "4a4b61cd-255b-40cb-9d83-429ee857870a"
      },
      "source": [
        "print (a)"
      ],
      "execution_count": null,
      "outputs": [
        {
          "output_type": "stream",
          "text": [
            "Hello World!\n"
          ],
          "name": "stdout"
        }
      ]
    },
    {
      "cell_type": "code",
      "metadata": {
        "id": "8o65eGZ1kkFL",
        "colab": {
          "base_uri": "https://localhost:8080/"
        },
        "outputId": "2d25d226-ff70-473a-cda0-2920d5f22fec"
      },
      "source": [
        "myname = \"Computational Physics\"\n",
        "print (\"My name is = \", myname)"
      ],
      "execution_count": null,
      "outputs": [
        {
          "output_type": "stream",
          "text": [
            "My name is =  Computational Physics\n"
          ],
          "name": "stdout"
        }
      ]
    },
    {
      "cell_type": "markdown",
      "metadata": {
        "id": "AiFOGmZskkFL"
      },
      "source": [
        "### Indent"
      ]
    },
    {
      "cell_type": "code",
      "metadata": {
        "id": "X4uO8l2ikkFL",
        "colab": {
          "base_uri": "https://localhost:8080/"
        },
        "outputId": "5fa65a74-0c7f-4e13-9cbc-82bb74a4fe43"
      },
      "source": [
        "#this is not correct\n",
        "#CORRECT ME!\n",
        "x = 3\n",
        "y = 4\n",
        "z = x + y \n",
        "print (\"3 + 4 is {}\".format(z))"
      ],
      "execution_count": null,
      "outputs": [
        {
          "output_type": "stream",
          "text": [
            "3 + 4 is 7\n"
          ],
          "name": "stdout"
        }
      ]
    },
    {
      "cell_type": "markdown",
      "metadata": {
        "id": "YsD7RodEkkFL"
      },
      "source": [
        "##### answer:\n",
        "```\n",
        "3 + 4 is 7\n",
        "```\n"
      ]
    },
    {
      "cell_type": "markdown",
      "metadata": {
        "id": "MmzIfhAgkkFL"
      },
      "source": [
        "### Assignment"
      ]
    },
    {
      "cell_type": "markdown",
      "metadata": {
        "id": "pYhfZ09kkkFL"
      },
      "source": [
        "In python which is a dynamically typed language, we don't need to specify the type of a variable. This is one of the main difference compared to c++. \n",
        "\n",
        "We will create a variable by assigning a value to the variable below and will check the type:"
      ]
    },
    {
      "cell_type": "code",
      "metadata": {
        "id": "5DFK80CFkkFM",
        "colab": {
          "base_uri": "https://localhost:8080/"
        },
        "outputId": "087a9df0-8f14-4f65-f130-f6e4451b2ddf"
      },
      "source": [
        "# variable assignments\n",
        "x = 1.0\n",
        "type(x)"
      ],
      "execution_count": null,
      "outputs": [
        {
          "output_type": "execute_result",
          "data": {
            "text/plain": [
              "float"
            ]
          },
          "metadata": {
            "tags": []
          },
          "execution_count": 8
        }
      ]
    },
    {
      "cell_type": "code",
      "metadata": {
        "id": "OCC_pI8ckkFM",
        "colab": {
          "base_uri": "https://localhost:8080/"
        },
        "outputId": "6433bb07-1119-4214-b4df-8cfb9c15ccf8"
      },
      "source": [
        "#fix this and make the output true\n",
        "type(x) is float"
      ],
      "execution_count": null,
      "outputs": [
        {
          "output_type": "execute_result",
          "data": {
            "text/plain": [
              "True"
            ]
          },
          "metadata": {
            "tags": []
          },
          "execution_count": 9
        }
      ]
    },
    {
      "cell_type": "markdown",
      "metadata": {
        "id": "YHXNn23FkkFM"
      },
      "source": [
        "##### answer:\n",
        "```\n",
        "True\n",
        "```"
      ]
    },
    {
      "cell_type": "code",
      "metadata": {
        "id": "jpfoN2kakkFM",
        "colab": {
          "base_uri": "https://localhost:8080/"
        },
        "outputId": "5a9c60c8-8fe1-4c4d-dcdb-3a797db23295"
      },
      "source": [
        "#can use the function\n",
        "isinstance(x, float)"
      ],
      "execution_count": null,
      "outputs": [
        {
          "output_type": "execute_result",
          "data": {
            "text/plain": [
              "True"
            ]
          },
          "metadata": {
            "tags": []
          },
          "execution_count": 10
        }
      ]
    },
    {
      "cell_type": "markdown",
      "metadata": {
        "id": "orHOwLjgkkFM"
      },
      "source": [
        "##### answer:\n",
        "```\n",
        "True\n",
        "```"
      ]
    },
    {
      "cell_type": "code",
      "metadata": {
        "id": "qId18TbnkkFM",
        "colab": {
          "base_uri": "https://localhost:8080/"
        },
        "outputId": "c8cf4b19-7036-4193-ce17-98d53df05f40"
      },
      "source": [
        "x = 1\n",
        "type(x)"
      ],
      "execution_count": null,
      "outputs": [
        {
          "output_type": "execute_result",
          "data": {
            "text/plain": [
              "int"
            ]
          },
          "metadata": {
            "tags": []
          },
          "execution_count": 11
        }
      ]
    },
    {
      "cell_type": "code",
      "metadata": {
        "id": "bzvUklkPkkFN",
        "colab": {
          "base_uri": "https://localhost:8080/"
        },
        "outputId": "1b8c1baa-b517-4469-a802-ac74f90687b8"
      },
      "source": [
        "x = \"hello\"\n",
        "type(x)"
      ],
      "execution_count": null,
      "outputs": [
        {
          "output_type": "execute_result",
          "data": {
            "text/plain": [
              "str"
            ]
          },
          "metadata": {
            "tags": []
          },
          "execution_count": 12
        }
      ]
    },
    {
      "cell_type": "code",
      "metadata": {
        "id": "tLZbmDzfkkFN",
        "colab": {
          "base_uri": "https://localhost:8080/"
        },
        "outputId": "3ef9b323-9074-448e-8107-cd93c4942fd7"
      },
      "source": [
        "x = True #can also be False\n",
        "type(x)"
      ],
      "execution_count": null,
      "outputs": [
        {
          "output_type": "execute_result",
          "data": {
            "text/plain": [
              "bool"
            ]
          },
          "metadata": {
            "tags": []
          },
          "execution_count": 13
        }
      ]
    },
    {
      "cell_type": "code",
      "metadata": {
        "id": "T2jpScTEkkFN",
        "colab": {
          "base_uri": "https://localhost:8080/"
        },
        "outputId": "fcce87a9-df53-4a0c-d534-d09fbb93746a"
      },
      "source": [
        "x = 1.0 - 1.0j\n",
        "type(x)"
      ],
      "execution_count": null,
      "outputs": [
        {
          "output_type": "execute_result",
          "data": {
            "text/plain": [
              "complex"
            ]
          },
          "metadata": {
            "tags": []
          },
          "execution_count": 14
        }
      ]
    },
    {
      "cell_type": "code",
      "metadata": {
        "id": "NZFXl7rqkkFN",
        "colab": {
          "base_uri": "https://localhost:8080/"
        },
        "outputId": "4ae4fa72-f583-4f0e-b9d4-e29a9302175f"
      },
      "source": [
        "print (x)"
      ],
      "execution_count": null,
      "outputs": [
        {
          "output_type": "stream",
          "text": [
            "(1-1j)\n"
          ],
          "name": "stdout"
        }
      ]
    },
    {
      "cell_type": "code",
      "metadata": {
        "id": "hrBhfQBFkkFN",
        "colab": {
          "base_uri": "https://localhost:8080/"
        },
        "outputId": "4fab1fe2-6889-4965-d90d-669cd8bb5b19"
      },
      "source": [
        "print(x.real, x.imag)"
      ],
      "execution_count": null,
      "outputs": [
        {
          "output_type": "stream",
          "text": [
            "1.0 -1.0\n"
          ],
          "name": "stdout"
        }
      ]
    },
    {
      "cell_type": "code",
      "metadata": {
        "id": "AtKrz9XKkkFN"
      },
      "source": [
        "y = bool(x.real)"
      ],
      "execution_count": null,
      "outputs": []
    },
    {
      "cell_type": "code",
      "metadata": {
        "id": "NjjVrsuVkkFN",
        "colab": {
          "base_uri": "https://localhost:8080/"
        },
        "outputId": "9a600517-cfc5-4809-d59c-81be7c2f63a2"
      },
      "source": [
        "print (x.real, \":\", y)"
      ],
      "execution_count": null,
      "outputs": [
        {
          "output_type": "stream",
          "text": [
            "1.0 : True\n"
          ],
          "name": "stdout"
        }
      ]
    },
    {
      "cell_type": "code",
      "metadata": {
        "id": "IJfJ4i8wkkFO"
      },
      "source": [
        "y = bool(x.imag)"
      ],
      "execution_count": null,
      "outputs": []
    },
    {
      "cell_type": "code",
      "metadata": {
        "id": "lgE5PPiPkkFO",
        "colab": {
          "base_uri": "https://localhost:8080/"
        },
        "outputId": "e679a623-3d9c-46f7-9eec-a957598feaf5"
      },
      "source": [
        "print (x.imag, \":\", y)"
      ],
      "execution_count": null,
      "outputs": [
        {
          "output_type": "stream",
          "text": [
            "-1.0 : True\n"
          ],
          "name": "stdout"
        }
      ]
    },
    {
      "cell_type": "code",
      "metadata": {
        "id": "zvDaUMvckkFO",
        "colab": {
          "base_uri": "https://localhost:8080/"
        },
        "outputId": "50d4bed2-ad64-4d50-8cf6-adf128adf39a"
      },
      "source": [
        "import types\n",
        "\n",
        "# print all types defined in the `types` module\n",
        "print(dir(types))"
      ],
      "execution_count": null,
      "outputs": [
        {
          "output_type": "stream",
          "text": [
            "['AsyncGeneratorType', 'BuiltinFunctionType', 'BuiltinMethodType', 'ClassMethodDescriptorType', 'CodeType', 'CoroutineType', 'DynamicClassAttribute', 'FrameType', 'FunctionType', 'GeneratorType', 'GetSetDescriptorType', 'LambdaType', 'MappingProxyType', 'MemberDescriptorType', 'MethodDescriptorType', 'MethodType', 'MethodWrapperType', 'ModuleType', 'SimpleNamespace', 'TracebackType', 'WrapperDescriptorType', '_GeneratorWrapper', '__all__', '__builtins__', '__cached__', '__doc__', '__file__', '__loader__', '__name__', '__package__', '__spec__', '_calculate_meta', 'coroutine', 'new_class', 'prepare_class', 'resolve_bases']\n"
          ],
          "name": "stdout"
        }
      ]
    },
    {
      "cell_type": "markdown",
      "metadata": {
        "id": "Fxk23DIkkkFO"
      },
      "source": [
        "### Math operator"
      ]
    },
    {
      "cell_type": "markdown",
      "metadata": {
        "id": "yPS6mp2jkkFO"
      },
      "source": [
        "This code will give the sum of x and y. The answer should be 7. "
      ]
    },
    {
      "cell_type": "code",
      "metadata": {
        "scrolled": false,
        "id": "Ftrha6cVkkFO",
        "colab": {
          "base_uri": "https://localhost:8080/"
        },
        "outputId": "42df0101-21c7-4982-d3f4-6fc3ae38598e"
      },
      "source": [
        "#summation\n",
        "x = 3\n",
        "y = 4\n",
        "z = x + y\n",
        "print (\"sum =\", z)"
      ],
      "execution_count": null,
      "outputs": [
        {
          "output_type": "stream",
          "text": [
            "sum = 7\n"
          ],
          "name": "stdout"
        }
      ]
    },
    {
      "cell_type": "code",
      "metadata": {
        "id": "ASTaATLQkkFO",
        "colab": {
          "base_uri": "https://localhost:8080/"
        },
        "outputId": "7b488385-f182-4a34-c241-634ccd5adab6"
      },
      "source": [
        "#subtraction\n",
        "z = x - y\n",
        "print (\"subtraction = \", z)"
      ],
      "execution_count": null,
      "outputs": [
        {
          "output_type": "stream",
          "text": [
            "subtraction =  -1\n"
          ],
          "name": "stdout"
        }
      ]
    },
    {
      "cell_type": "code",
      "metadata": {
        "id": "jECBZ1nQkkFP",
        "colab": {
          "base_uri": "https://localhost:8080/"
        },
        "outputId": "f2326efb-b738-4185-df86-98ee7e8ca1ea"
      },
      "source": [
        "#multiplication\n",
        "z = x*y\n",
        "print (\"multiplication = \", z)"
      ],
      "execution_count": null,
      "outputs": [
        {
          "output_type": "stream",
          "text": [
            "multiplication =  12\n"
          ],
          "name": "stdout"
        }
      ]
    },
    {
      "cell_type": "code",
      "metadata": {
        "id": "b5znX_sgkkFP",
        "colab": {
          "base_uri": "https://localhost:8080/"
        },
        "outputId": "02f8e6f9-d6e2-403d-97a6-1fa9d60faf52"
      },
      "source": [
        "#division\n",
        "z = x/y\n",
        "print (\"z = \", z)"
      ],
      "execution_count": null,
      "outputs": [
        {
          "output_type": "stream",
          "text": [
            "z =  0.75\n"
          ],
          "name": "stdout"
        }
      ]
    },
    {
      "cell_type": "code",
      "metadata": {
        "id": "pvNEbLeykkFP",
        "colab": {
          "base_uri": "https://localhost:8080/"
        },
        "outputId": "146c6694-3bba-4998-bc16-7796bde4b19c"
      },
      "source": [
        "#division\n",
        "x = 3.0\n",
        "y = 4.0\n",
        "z = x/y\n",
        "print (\"z = \", z)"
      ],
      "execution_count": null,
      "outputs": [
        {
          "output_type": "stream",
          "text": [
            "z =  0.75\n"
          ],
          "name": "stdout"
        }
      ]
    },
    {
      "cell_type": "code",
      "metadata": {
        "id": "pMtqyKDIkkFP",
        "colab": {
          "base_uri": "https://localhost:8080/"
        },
        "outputId": "57444d5e-15ac-412b-87ea-7ccac73a86d0"
      },
      "source": [
        "#modulus\n",
        "x = 3.0\n",
        "y = 1.1\n",
        "reminder = x%y\n",
        "print (\"reminder = \", reminder)"
      ],
      "execution_count": null,
      "outputs": [
        {
          "output_type": "stream",
          "text": [
            "reminder =  0.7999999999999998\n"
          ],
          "name": "stdout"
        }
      ]
    },
    {
      "cell_type": "code",
      "metadata": {
        "id": "0dBRS2bqkkFP",
        "colab": {
          "base_uri": "https://localhost:8080/"
        },
        "outputId": "e529bbfa-008c-4621-aa41-3a2f024f1d9a"
      },
      "source": [
        "quotient = x//y\n",
        "print (\"quotient = \", quotient)"
      ],
      "execution_count": null,
      "outputs": [
        {
          "output_type": "stream",
          "text": [
            "quotient =  2.0\n"
          ],
          "name": "stdout"
        }
      ]
    },
    {
      "cell_type": "code",
      "metadata": {
        "id": "9_sNZokpkkFQ",
        "colab": {
          "base_uri": "https://localhost:8080/"
        },
        "outputId": "642d1e13-72a8-4c67-c256-b3aac237ebc6"
      },
      "source": [
        "#exponent\n",
        "z = x**3\n",
        "print (\"z = \", z)"
      ],
      "execution_count": null,
      "outputs": [
        {
          "output_type": "stream",
          "text": [
            "z =  27.0\n"
          ],
          "name": "stdout"
        }
      ]
    },
    {
      "cell_type": "code",
      "metadata": {
        "id": "LrRU6N7xkkFQ",
        "colab": {
          "base_uri": "https://localhost:8080/"
        },
        "outputId": "44725350-b14e-430e-b930-fb29f4897f15"
      },
      "source": [
        "#import math to be able to use the math function\n",
        "import math\n",
        "x = math.cos(2 * math.pi) #math.pi = 3.14159265359\n",
        "print (\"cos(2*3.14159265359) = \", x)"
      ],
      "execution_count": null,
      "outputs": [
        {
          "output_type": "stream",
          "text": [
            "cos(2*3.14159265359) =  1.0\n"
          ],
          "name": "stdout"
        }
      ]
    },
    {
      "cell_type": "markdown",
      "metadata": {
        "id": "BPXygyEAkkFQ"
      },
      "source": [
        "We can choose to import all symbols to the current namespace. In this way, we can use the math modules without using the prefix \"math\":"
      ]
    },
    {
      "cell_type": "code",
      "metadata": {
        "id": "JGhue-8zkkFQ",
        "colab": {
          "base_uri": "https://localhost:8080/"
        },
        "outputId": "be1d2647-17e2-435c-fcc7-6240c445f50e"
      },
      "source": [
        "#import math to be able to use the math function\n",
        "from math import *\n",
        "x = cos(2 * pi) #math.pi = 3.14159265359\n",
        "print (\"cos(2*3.14159265359) = \", x)"
      ],
      "execution_count": null,
      "outputs": [
        {
          "output_type": "stream",
          "text": [
            "cos(2*3.14159265359) =  1.0\n"
          ],
          "name": "stdout"
        }
      ]
    },
    {
      "cell_type": "markdown",
      "metadata": {
        "id": "b9bUdr7YkkFQ"
      },
      "source": [
        "\n",
        "This is very convenent but sometimes it can be confusing with the symbols as it can also be used in other places. Usually it is better to keep the namespaces. This would elimate the cofusing problems with the name space collisions. \n",
        "This pattern can be very convenient, but in large programs that include many modules it is often a good idea to keep \n",
        "\n",
        "Otherwise, we can chose to import only a few selected symbols from a module by explicitly listing which ones we want to import instead of using the wildcard character *:"
      ]
    },
    {
      "cell_type": "code",
      "metadata": {
        "id": "ZSKmAcackkFQ",
        "colab": {
          "base_uri": "https://localhost:8080/"
        },
        "outputId": "816c0e5a-431e-4f63-8372-c44fd71407ab"
      },
      "source": [
        "\n",
        "from math import cos, pi\n",
        "x = cos(2 * pi) #math.pi = 3.14159265359\n",
        "print (\"cos(2*3.14159265359) = \", x)"
      ],
      "execution_count": null,
      "outputs": [
        {
          "output_type": "stream",
          "text": [
            "cos(2*3.14159265359) =  1.0\n"
          ],
          "name": "stdout"
        }
      ]
    },
    {
      "cell_type": "markdown",
      "metadata": {
        "id": "WORfJaGokkFR"
      },
      "source": [
        "You can check what is available in math library with following lines:"
      ]
    },
    {
      "cell_type": "code",
      "metadata": {
        "id": "7Xf80R5OkkFR",
        "colab": {
          "base_uri": "https://localhost:8080/"
        },
        "outputId": "e07fe980-2a99-4c51-a883-ed99d3afe9c6"
      },
      "source": [
        "a = log(10)\n",
        "print (\"log(10) = \", a)\n",
        "b = log(10,2)\n",
        "print (\"log(10,2) = \", b)"
      ],
      "execution_count": null,
      "outputs": [
        {
          "output_type": "stream",
          "text": [
            "log(10) =  2.302585092994046\n",
            "log(10,2) =  3.3219280948873626\n"
          ],
          "name": "stdout"
        }
      ]
    },
    {
      "cell_type": "code",
      "metadata": {
        "scrolled": true,
        "id": "IOLobZHXkkFR",
        "colab": {
          "base_uri": "https://localhost:8080/"
        },
        "outputId": "07a98153-f291-48a8-f7b9-7915497ee975"
      },
      "source": [
        "import math\n",
        "\n",
        "print(dir(math))"
      ],
      "execution_count": null,
      "outputs": [
        {
          "output_type": "stream",
          "text": [
            "['__doc__', '__loader__', '__name__', '__package__', '__spec__', 'acos', 'acosh', 'asin', 'asinh', 'atan', 'atan2', 'atanh', 'ceil', 'copysign', 'cos', 'cosh', 'degrees', 'e', 'erf', 'erfc', 'exp', 'expm1', 'fabs', 'factorial', 'floor', 'fmod', 'frexp', 'fsum', 'gamma', 'gcd', 'hypot', 'inf', 'isclose', 'isfinite', 'isinf', 'isnan', 'ldexp', 'lgamma', 'log', 'log10', 'log1p', 'log2', 'modf', 'nan', 'pi', 'pow', 'radians', 'remainder', 'sin', 'sinh', 'sqrt', 'tan', 'tanh', 'tau', 'trunc']\n"
          ],
          "name": "stdout"
        }
      ]
    },
    {
      "cell_type": "markdown",
      "metadata": {
        "id": "oKHFDpDOkkFR"
      },
      "source": [
        "### Strings"
      ]
    },
    {
      "cell_type": "code",
      "metadata": {
        "id": "EDk-MbO7kkFR",
        "colab": {
          "base_uri": "https://localhost:8080/"
        },
        "outputId": "13a00308-d33e-4899-a444-bb2e8b6afc6c"
      },
      "source": [
        "s = \"Hello world\"\n",
        "type(s)"
      ],
      "execution_count": null,
      "outputs": [
        {
          "output_type": "execute_result",
          "data": {
            "text/plain": [
              "str"
            ]
          },
          "metadata": {
            "tags": []
          },
          "execution_count": 35
        }
      ]
    },
    {
      "cell_type": "code",
      "metadata": {
        "id": "Vfwuby4akkFR",
        "colab": {
          "base_uri": "https://localhost:8080/"
        },
        "outputId": "e7480734-a869-4ace-fca6-28edbff534f3"
      },
      "source": [
        "# length of the string: the number of characters# length \n",
        "len(s)"
      ],
      "execution_count": null,
      "outputs": [
        {
          "output_type": "execute_result",
          "data": {
            "text/plain": [
              "11"
            ]
          },
          "metadata": {
            "tags": []
          },
          "execution_count": 36
        }
      ]
    },
    {
      "cell_type": "code",
      "metadata": {
        "id": "FAgYMMG_kkFR",
        "colab": {
          "base_uri": "https://localhost:8080/"
        },
        "outputId": "a8b6a199-9483-4209-f0cf-d62fcdde451e"
      },
      "source": [
        "# replace a substring in a string with something else\n",
        "s2 = s.replace(\"world\", \"Physics\")\n",
        "print(s2)"
      ],
      "execution_count": null,
      "outputs": [
        {
          "output_type": "stream",
          "text": [
            "Hello Physics\n"
          ],
          "name": "stdout"
        }
      ]
    },
    {
      "cell_type": "code",
      "metadata": {
        "id": "Tz-XiYdSkkFS",
        "colab": {
          "base_uri": "https://localhost:8080/"
        },
        "outputId": "4ef66630-667f-4fe3-ed27-5a2777034d5e"
      },
      "source": [
        "s[0]"
      ],
      "execution_count": null,
      "outputs": [
        {
          "output_type": "execute_result",
          "data": {
            "application/vnd.google.colaboratory.intrinsic+json": {
              "type": "string"
            },
            "text/plain": [
              "'H'"
            ]
          },
          "metadata": {
            "tags": []
          },
          "execution_count": 38
        }
      ]
    },
    {
      "cell_type": "code",
      "metadata": {
        "id": "RDzStx3gkkFS",
        "colab": {
          "base_uri": "https://localhost:8080/"
        },
        "outputId": "72f5ad65-54d2-4ffb-8e39-68d8d8a5db60"
      },
      "source": [
        "s[0:5]"
      ],
      "execution_count": null,
      "outputs": [
        {
          "output_type": "execute_result",
          "data": {
            "application/vnd.google.colaboratory.intrinsic+json": {
              "type": "string"
            },
            "text/plain": [
              "'Hello'"
            ]
          },
          "metadata": {
            "tags": []
          },
          "execution_count": 39
        }
      ]
    },
    {
      "cell_type": "code",
      "metadata": {
        "id": "RgOqY-JzkkFS",
        "colab": {
          "base_uri": "https://localhost:8080/"
        },
        "outputId": "de77fea8-b5cb-493e-8b55-0d049e5eaf73"
      },
      "source": [
        "s[4:5]"
      ],
      "execution_count": null,
      "outputs": [
        {
          "output_type": "execute_result",
          "data": {
            "application/vnd.google.colaboratory.intrinsic+json": {
              "type": "string"
            },
            "text/plain": [
              "'o'"
            ]
          },
          "metadata": {
            "tags": []
          },
          "execution_count": 40
        }
      ]
    },
    {
      "cell_type": "code",
      "metadata": {
        "id": "roF2nQttkkFS",
        "colab": {
          "base_uri": "https://localhost:8080/"
        },
        "outputId": "984e8409-7c2d-4969-9631-d4b90b38b759"
      },
      "source": [
        "s[:5]"
      ],
      "execution_count": null,
      "outputs": [
        {
          "output_type": "execute_result",
          "data": {
            "application/vnd.google.colaboratory.intrinsic+json": {
              "type": "string"
            },
            "text/plain": [
              "'Hello'"
            ]
          },
          "metadata": {
            "tags": []
          },
          "execution_count": 41
        }
      ]
    },
    {
      "cell_type": "code",
      "metadata": {
        "id": "YRg0q2SPkkFS",
        "colab": {
          "base_uri": "https://localhost:8080/"
        },
        "outputId": "33f29da4-1841-45f3-c93e-c3b5d63965db"
      },
      "source": [
        "s[6:]"
      ],
      "execution_count": null,
      "outputs": [
        {
          "output_type": "execute_result",
          "data": {
            "application/vnd.google.colaboratory.intrinsic+json": {
              "type": "string"
            },
            "text/plain": [
              "'world'"
            ]
          },
          "metadata": {
            "tags": []
          },
          "execution_count": 42
        }
      ]
    },
    {
      "cell_type": "code",
      "metadata": {
        "id": "s59slVGtkkFS",
        "colab": {
          "base_uri": "https://localhost:8080/"
        },
        "outputId": "f6e916ea-be60-4a21-9e76-da0f45f741bb"
      },
      "source": [
        "s[:]"
      ],
      "execution_count": null,
      "outputs": [
        {
          "output_type": "execute_result",
          "data": {
            "application/vnd.google.colaboratory.intrinsic+json": {
              "type": "string"
            },
            "text/plain": [
              "'Hello world'"
            ]
          },
          "metadata": {
            "tags": []
          },
          "execution_count": 43
        }
      ]
    },
    {
      "cell_type": "markdown",
      "metadata": {
        "id": "9hVVLDCOkkFT"
      },
      "source": [
        "We can also define the step size [start:end:step]:"
      ]
    },
    {
      "cell_type": "code",
      "metadata": {
        "id": "8j04avm_kkFT",
        "colab": {
          "base_uri": "https://localhost:8080/"
        },
        "outputId": "41bed803-48ea-4ab5-f666-33951793b4fe"
      },
      "source": [
        "s[::1]"
      ],
      "execution_count": null,
      "outputs": [
        {
          "output_type": "execute_result",
          "data": {
            "application/vnd.google.colaboratory.intrinsic+json": {
              "type": "string"
            },
            "text/plain": [
              "'Hello world'"
            ]
          },
          "metadata": {
            "tags": []
          },
          "execution_count": 44
        }
      ]
    },
    {
      "cell_type": "code",
      "metadata": {
        "id": "EW6ElEOAkkFT",
        "colab": {
          "base_uri": "https://localhost:8080/"
        },
        "outputId": "4b03c0c9-2044-4c23-de2a-c523fc60a916"
      },
      "source": [
        "s[::3]"
      ],
      "execution_count": null,
      "outputs": [
        {
          "output_type": "execute_result",
          "data": {
            "application/vnd.google.colaboratory.intrinsic+json": {
              "type": "string"
            },
            "text/plain": [
              "'Hlwl'"
            ]
          },
          "metadata": {
            "tags": []
          },
          "execution_count": 45
        }
      ]
    },
    {
      "cell_type": "code",
      "metadata": {
        "id": "qyibnxuIkkFT",
        "colab": {
          "base_uri": "https://localhost:8080/"
        },
        "outputId": "86bd1d83-a721-48b0-fbda-7b8c036c17ef"
      },
      "source": [
        "a = \"Computational\"\n",
        "b = \"Physics\"\n",
        "print (a,b)"
      ],
      "execution_count": null,
      "outputs": [
        {
          "output_type": "stream",
          "text": [
            "Computational Physics\n"
          ],
          "name": "stdout"
        }
      ]
    },
    {
      "cell_type": "code",
      "metadata": {
        "id": "LuCb5x2TkkFT",
        "colab": {
          "base_uri": "https://localhost:8080/"
        },
        "outputId": "fafd2269-e6f0-40e2-dc83-8bfbcfc320eb"
      },
      "source": [
        "print (a, b, 2, \"is\", True)"
      ],
      "execution_count": null,
      "outputs": [
        {
          "output_type": "stream",
          "text": [
            "Computational Physics 2 is True\n"
          ],
          "name": "stdout"
        }
      ]
    },
    {
      "cell_type": "code",
      "metadata": {
        "id": "mlZVEFsAkkFT",
        "colab": {
          "base_uri": "https://localhost:8080/"
        },
        "outputId": "d4582b65-5a97-4d25-e772-5f6237c32b6f"
      },
      "source": [
        "print (a+b)"
      ],
      "execution_count": null,
      "outputs": [
        {
          "output_type": "stream",
          "text": [
            "ComputationalPhysics\n"
          ],
          "name": "stdout"
        }
      ]
    },
    {
      "cell_type": "code",
      "metadata": {
        "id": "QkXMOgLYkkFT",
        "colab": {
          "base_uri": "https://localhost:8080/"
        },
        "outputId": "15efefb4-a8d1-4e60-a1b1-2b0614dea0c8"
      },
      "source": [
        "print (\"value = %f\" % 1.0)"
      ],
      "execution_count": null,
      "outputs": [
        {
          "output_type": "stream",
          "text": [
            "value = 1.000000\n"
          ],
          "name": "stdout"
        }
      ]
    },
    {
      "cell_type": "code",
      "metadata": {
        "id": "XSrzCTCdkkFT",
        "colab": {
          "base_uri": "https://localhost:8080/"
        },
        "outputId": "cf036fbd-24fc-48da-f61e-73c7bcce6ca5"
      },
      "source": [
        "s = \"value1 = %.2f. value2 = %d\" % (3.1415, 1.5)\n",
        "print (s)"
      ],
      "execution_count": null,
      "outputs": [
        {
          "output_type": "stream",
          "text": [
            "value1 = 3.14. value2 = 1\n"
          ],
          "name": "stdout"
        }
      ]
    },
    {
      "cell_type": "markdown",
      "metadata": {
        "id": "yetLbIMJkkFU"
      },
      "source": [
        "### List"
      ]
    },
    {
      "cell_type": "code",
      "metadata": {
        "id": "QKlYMtBIkkFU",
        "colab": {
          "base_uri": "https://localhost:8080/"
        },
        "outputId": "80a6dfc6-69fa-472c-a996-a7a977091cb1"
      },
      "source": [
        "l = [1,2,3,4]\n",
        "\n",
        "print (type(l))\n",
        "print (l)"
      ],
      "execution_count": null,
      "outputs": [
        {
          "output_type": "stream",
          "text": [
            "<class 'list'>\n",
            "[1, 2, 3, 4]\n"
          ],
          "name": "stdout"
        }
      ]
    },
    {
      "cell_type": "code",
      "metadata": {
        "id": "Ij6rY1fIkkFU",
        "colab": {
          "base_uri": "https://localhost:8080/"
        },
        "outputId": "5f81f7c8-ab4c-4770-c42c-7c9fa5917769"
      },
      "source": [
        "print (l[1:3])\n",
        "print (l[::2])"
      ],
      "execution_count": null,
      "outputs": [
        {
          "output_type": "stream",
          "text": [
            "[2, 3]\n",
            "[1, 3]\n"
          ],
          "name": "stdout"
        }
      ]
    },
    {
      "cell_type": "code",
      "metadata": {
        "id": "n8dT7RAtkkFU",
        "colab": {
          "base_uri": "https://localhost:8080/"
        },
        "outputId": "07f3a5fd-eae2-4ff2-a17c-2a48ef464deb"
      },
      "source": [
        "l[2]"
      ],
      "execution_count": null,
      "outputs": [
        {
          "output_type": "execute_result",
          "data": {
            "text/plain": [
              "3"
            ]
          },
          "metadata": {
            "tags": []
          },
          "execution_count": 53
        }
      ]
    },
    {
      "cell_type": "code",
      "metadata": {
        "id": "qFaoXWUukkFU"
      },
      "source": [
        "nested_list = [[1,2], [3,4]]"
      ],
      "execution_count": null,
      "outputs": []
    },
    {
      "cell_type": "code",
      "metadata": {
        "id": "NvP_QGtSkkFU",
        "colab": {
          "base_uri": "https://localhost:8080/"
        },
        "outputId": "8992dd04-502e-47c0-bd52-2aa718a1ad02"
      },
      "source": [
        "print (nested_list)"
      ],
      "execution_count": null,
      "outputs": [
        {
          "output_type": "stream",
          "text": [
            "[[1, 2], [3, 4]]\n"
          ],
          "name": "stdout"
        }
      ]
    },
    {
      "cell_type": "code",
      "metadata": {
        "id": "qyOkWRhPkkFU",
        "colab": {
          "base_uri": "https://localhost:8080/"
        },
        "outputId": "83a697ce-c222-4cb8-f858-5b08e7bd77f6"
      },
      "source": [
        "start = 0\n",
        "stop = 10\n",
        "step = 1\n",
        "l = range(0,10,1)\n",
        "print (l)"
      ],
      "execution_count": null,
      "outputs": [
        {
          "output_type": "stream",
          "text": [
            "range(0, 10)\n"
          ],
          "name": "stdout"
        }
      ]
    },
    {
      "cell_type": "code",
      "metadata": {
        "id": "O7b1iQdLkkFV",
        "colab": {
          "base_uri": "https://localhost:8080/"
        },
        "outputId": "63226112-2646-4d5a-8a8a-aa5cf15518d6"
      },
      "source": [
        "l = range(-10,10)\n",
        "print (l)"
      ],
      "execution_count": null,
      "outputs": [
        {
          "output_type": "stream",
          "text": [
            "range(-10, 10)\n"
          ],
          "name": "stdout"
        }
      ]
    },
    {
      "cell_type": "code",
      "metadata": {
        "id": "bWUxEsTKkkFV",
        "colab": {
          "base_uri": "https://localhost:8080/"
        },
        "outputId": "b2751752-fb82-4c10-82dc-72328fd5de04"
      },
      "source": [
        "# sorting lists\n",
        "l = [9,1,10,3,4,6,2,5,7,8]\n",
        "print (l)\n",
        "l.sort()\n",
        "print (l)"
      ],
      "execution_count": null,
      "outputs": [
        {
          "output_type": "stream",
          "text": [
            "[9, 1, 10, 3, 4, 6, 2, 5, 7, 8]\n",
            "[1, 2, 3, 4, 5, 6, 7, 8, 9, 10]\n"
          ],
          "name": "stdout"
        }
      ]
    },
    {
      "cell_type": "code",
      "metadata": {
        "id": "x8ojMc4BkkFV",
        "colab": {
          "base_uri": "https://localhost:8080/"
        },
        "outputId": "78de653c-7934-4e4d-e2f4-957e6f29b5a3"
      },
      "source": [
        "# create a new empty list\n",
        "l = []\n",
        "\n",
        "# add an elements using `append`\n",
        "l.append(\"P\")\n",
        "l.append(\"H\")\n",
        "l.append(\"Y\")\n",
        "\n",
        "print (l)"
      ],
      "execution_count": null,
      "outputs": [
        {
          "output_type": "stream",
          "text": [
            "['P', 'H', 'Y']\n"
          ],
          "name": "stdout"
        }
      ]
    },
    {
      "cell_type": "code",
      "metadata": {
        "id": "_dlLYiGXkkFV",
        "colab": {
          "base_uri": "https://localhost:8080/"
        },
        "outputId": "9d508dfe-954e-4483-d43a-2f8234ae9f4d"
      },
      "source": [
        "l[0] = \"H\"\n",
        "l[1] = \"Y\"\n",
        "l[2] = \"U\"\n",
        "\n",
        "print (l)"
      ],
      "execution_count": null,
      "outputs": [
        {
          "output_type": "stream",
          "text": [
            "['H', 'Y', 'U']\n"
          ],
          "name": "stdout"
        }
      ]
    },
    {
      "cell_type": "code",
      "metadata": {
        "id": "QqWDY5KDkkFV",
        "colab": {
          "base_uri": "https://localhost:8080/"
        },
        "outputId": "5f17abc3-24a9-4e76-d2d5-fde250d3f721"
      },
      "source": [
        "l.insert(3, \"P\")\n",
        "l.insert(4, \"H\")\n",
        "l.insert(5, \"Y\")\n",
        "print (l)"
      ],
      "execution_count": null,
      "outputs": [
        {
          "output_type": "stream",
          "text": [
            "['H', 'Y', 'U', 'P', 'H', 'Y']\n"
          ],
          "name": "stdout"
        }
      ]
    },
    {
      "cell_type": "code",
      "metadata": {
        "id": "2GNRDFE4kkFV",
        "colab": {
          "base_uri": "https://localhost:8080/"
        },
        "outputId": "37e30173-7fee-417c-c507-f867487c5f37"
      },
      "source": [
        "l.remove(\"H\")\n",
        "print (l) "
      ],
      "execution_count": null,
      "outputs": [
        {
          "output_type": "stream",
          "text": [
            "['Y', 'U', 'P', 'H', 'Y']\n"
          ],
          "name": "stdout"
        }
      ]
    },
    {
      "cell_type": "code",
      "metadata": {
        "id": "mZBY2qsjkkFV",
        "colab": {
          "base_uri": "https://localhost:8080/"
        },
        "outputId": "7ce62ac0-2d48-47a2-c9c6-8eff4c34f76f"
      },
      "source": [
        "del l[1]\n",
        "print (l)"
      ],
      "execution_count": null,
      "outputs": [
        {
          "output_type": "stream",
          "text": [
            "['Y', 'P', 'H', 'Y']\n"
          ],
          "name": "stdout"
        }
      ]
    },
    {
      "cell_type": "markdown",
      "metadata": {
        "id": "1EYDR-26kkFV"
      },
      "source": [
        "### Dictionaries"
      ]
    },
    {
      "cell_type": "code",
      "metadata": {
        "id": "R5brX8XFkkFW",
        "colab": {
          "base_uri": "https://localhost:8080/"
        },
        "outputId": "27feec58-a149-4da7-ed4a-870b1b0aae1e"
      },
      "source": [
        "params = {\"mass\" : 3,\n",
        "          \"distance\" : 2.0,\n",
        "          \"gravity\" : 9,}\n",
        "\n",
        "print (type(params))\n",
        "print (params)"
      ],
      "execution_count": null,
      "outputs": [
        {
          "output_type": "stream",
          "text": [
            "<class 'dict'>\n",
            "{'mass': 3, 'distance': 2.0, 'gravity': 9}\n"
          ],
          "name": "stdout"
        }
      ]
    },
    {
      "cell_type": "code",
      "metadata": {
        "id": "7jV3iyAckkFW",
        "colab": {
          "base_uri": "https://localhost:8080/"
        },
        "outputId": "0e76dbfe-de1a-4b4e-aa21-8cf40b65aebe"
      },
      "source": [
        "print(\"mass = \" + str(params[\"mass\"]))\n",
        "print(\"distance = \" + str(params[\"distance\"]))\n",
        "print(\"gravity = \" + str(params[\"gravity\"]))"
      ],
      "execution_count": null,
      "outputs": [
        {
          "output_type": "stream",
          "text": [
            "mass = 3\n",
            "distance = 2.0\n",
            "gravity = 9\n"
          ],
          "name": "stdout"
        }
      ]
    },
    {
      "cell_type": "code",
      "metadata": {
        "id": "BiS-euFYkkFW",
        "colab": {
          "base_uri": "https://localhost:8080/"
        },
        "outputId": "c95d7262-fcb2-4db3-f97c-526ddbb2136d"
      },
      "source": [
        "params[\"mass\"] = 10\n",
        "params[\"distance\"] = 5\n",
        "\n",
        "# add a new entry\n",
        "params[\"force\"] = params[\"mass\"]*params[\"gravity\"]\n",
        "\n",
        "print(\"mass = \" + str(params[\"mass\"]))\n",
        "print(\"distance = \" + str(params[\"distance\"]))\n",
        "print(\"gravity = \" + str(params[\"gravity\"]))\n",
        "print(\"force = \" + str(params[\"force\"]))"
      ],
      "execution_count": null,
      "outputs": [
        {
          "output_type": "stream",
          "text": [
            "mass = 10\n",
            "distance = 5\n",
            "gravity = 9\n",
            "force = 90\n"
          ],
          "name": "stdout"
        }
      ]
    },
    {
      "cell_type": "markdown",
      "metadata": {
        "id": "iYeySGaKkkFW"
      },
      "source": [
        "### Conditional statement"
      ]
    },
    {
      "cell_type": "code",
      "metadata": {
        "id": "yAK36QCkkkFW",
        "colab": {
          "base_uri": "https://localhost:8080/"
        },
        "outputId": "cf69c350-2513-4e55-fb1e-1fd760a302a5"
      },
      "source": [
        "# equality\n",
        "2 == 1"
      ],
      "execution_count": null,
      "outputs": [
        {
          "output_type": "execute_result",
          "data": {
            "text/plain": [
              "False"
            ]
          },
          "metadata": {
            "tags": []
          },
          "execution_count": 67
        }
      ]
    },
    {
      "cell_type": "code",
      "metadata": {
        "id": "1_-TVNNMkkFW",
        "colab": {
          "base_uri": "https://localhost:8080/"
        },
        "outputId": "6065c067-de40-419f-ba3a-d1e9dd17b4ea"
      },
      "source": [
        "2 > 1, 2 < 1"
      ],
      "execution_count": null,
      "outputs": [
        {
          "output_type": "execute_result",
          "data": {
            "text/plain": [
              "(True, False)"
            ]
          },
          "metadata": {
            "tags": []
          },
          "execution_count": 68
        }
      ]
    },
    {
      "cell_type": "code",
      "metadata": {
        "scrolled": true,
        "id": "cDZs9EKxkkFW",
        "colab": {
          "base_uri": "https://localhost:8080/"
        },
        "outputId": "02e8b0b5-6934-4ad1-9144-de0d397a7b5c"
      },
      "source": [
        "# objects identical?\n",
        "a = b = 3\n",
        "\n",
        "a is b"
      ],
      "execution_count": null,
      "outputs": [
        {
          "output_type": "execute_result",
          "data": {
            "text/plain": [
              "True"
            ]
          },
          "metadata": {
            "tags": []
          },
          "execution_count": 69
        }
      ]
    },
    {
      "cell_type": "markdown",
      "metadata": {
        "id": "bmar1A1WkkFW"
      },
      "source": [
        "Program blocks are defined by their indentation level."
      ]
    },
    {
      "cell_type": "code",
      "metadata": {
        "id": "IGLYTtpLkkFX",
        "colab": {
          "base_uri": "https://localhost:8080/"
        },
        "outputId": "c431e703-0755-430e-e098-3b24ccf7f5b2"
      },
      "source": [
        "if sum == 55:\n",
        "    print (\"Correct answer!\")\n",
        "else:\n",
        "    print (\"Wrong answer!\")"
      ],
      "execution_count": null,
      "outputs": [
        {
          "output_type": "stream",
          "text": [
            "Wrong answer!\n"
          ],
          "name": "stdout"
        }
      ]
    },
    {
      "cell_type": "code",
      "metadata": {
        "scrolled": true,
        "id": "0kl1QOaukkFX",
        "colab": {
          "base_uri": "https://localhost:8080/"
        },
        "outputId": "67605e78-122d-4c69-a88d-74c3251cd53f"
      },
      "source": [
        "if True and False:\n",
        "    print (\"True and False = True\")\n",
        "else:\n",
        "    print (\"True and False = False\")"
      ],
      "execution_count": null,
      "outputs": [
        {
          "output_type": "stream",
          "text": [
            "True and False = False\n"
          ],
          "name": "stdout"
        }
      ]
    },
    {
      "cell_type": "code",
      "metadata": {
        "scrolled": true,
        "id": "RrEZuPTikkFX",
        "colab": {
          "base_uri": "https://localhost:8080/"
        },
        "outputId": "4fb46950-8421-48d2-9d2d-13fd4f28d940"
      },
      "source": [
        "if True or False:\n",
        "    print (\"True or False = True\")\n",
        "else:\n",
        "    print (\"True or False = False\")"
      ],
      "execution_count": null,
      "outputs": [
        {
          "output_type": "stream",
          "text": [
            "True or False = True\n"
          ],
          "name": "stdout"
        }
      ]
    },
    {
      "cell_type": "code",
      "metadata": {
        "id": "3NKhRCCIkkFX",
        "colab": {
          "base_uri": "https://localhost:8080/"
        },
        "outputId": "afb6f587-97d1-4838-b068-a68299ab8378"
      },
      "source": [
        "if not False:\n",
        "    print (\"not False = True\")\n",
        "else:\n",
        "    print (\"not False = False\")"
      ],
      "execution_count": null,
      "outputs": [
        {
          "output_type": "stream",
          "text": [
            "not False = True\n"
          ],
          "name": "stdout"
        }
      ]
    },
    {
      "cell_type": "markdown",
      "metadata": {
        "id": "6pLX2_WYkkFX"
      },
      "source": [
        "### Loops"
      ]
    },
    {
      "cell_type": "code",
      "metadata": {
        "id": "iqufYWU6kkFX",
        "colab": {
          "base_uri": "https://localhost:8080/"
        },
        "outputId": "9c622653-0b9a-48a9-9216-2f2c5ac4f9b5"
      },
      "source": [
        "for x in [1,2,3]:\n",
        "    print(x)"
      ],
      "execution_count": null,
      "outputs": [
        {
          "output_type": "stream",
          "text": [
            "1\n",
            "2\n",
            "3\n"
          ],
          "name": "stdout"
        }
      ]
    },
    {
      "cell_type": "code",
      "metadata": {
        "id": "HWNxA7Y4kkFX",
        "colab": {
          "base_uri": "https://localhost:8080/"
        },
        "outputId": "539f492f-8886-40ec-ea5a-dc27457dbfd8"
      },
      "source": [
        "#print from 0, 1, 2, 3\n",
        "y = 4\n",
        "for x in range(y): # by default range start at 0\n",
        "    print(x)"
      ],
      "execution_count": null,
      "outputs": [
        {
          "output_type": "stream",
          "text": [
            "0\n",
            "1\n",
            "2\n",
            "3\n"
          ],
          "name": "stdout"
        }
      ]
    },
    {
      "cell_type": "markdown",
      "metadata": {
        "id": "UupJOGGwkkFY"
      },
      "source": [
        "##### output should be \n",
        "```    \n",
        "    0\n",
        "    1\n",
        "    2\n",
        "    3\n",
        "```    "
      ]
    },
    {
      "cell_type": "code",
      "metadata": {
        "id": "5kb6D2LzkkFY",
        "colab": {
          "base_uri": "https://localhost:8080/"
        },
        "outputId": "75f10034-e785-472b-d8d5-cf34d0af6590"
      },
      "source": [
        "for word in [\"scientific\", \"computing\", \"with\", \"python\"]:\n",
        "    print(word)"
      ],
      "execution_count": null,
      "outputs": [
        {
          "output_type": "stream",
          "text": [
            "scientific\n",
            "computing\n",
            "with\n",
            "python\n"
          ],
          "name": "stdout"
        }
      ]
    },
    {
      "cell_type": "markdown",
      "metadata": {
        "id": "hUZ_PZqUkkFY"
      },
      "source": [
        "Sometimes it is useful to have access to the indices of the values when iterating over a list. We can use the enumerate function for this:"
      ]
    },
    {
      "cell_type": "code",
      "metadata": {
        "id": "gZUZ9HsbkkFY",
        "colab": {
          "base_uri": "https://localhost:8080/"
        },
        "outputId": "1ec86980-6c90-418f-ef24-309e3b7cd28a"
      },
      "source": [
        "for idx, x in enumerate(range(-3,3)):\n",
        "    print(idx, x)"
      ],
      "execution_count": null,
      "outputs": [
        {
          "output_type": "stream",
          "text": [
            "0 -3\n",
            "1 -2\n",
            "2 -1\n",
            "3 0\n",
            "4 1\n",
            "5 2\n"
          ],
          "name": "stdout"
        }
      ]
    },
    {
      "cell_type": "markdown",
      "metadata": {
        "id": "xx5Ka9GZkkFY"
      },
      "source": [
        "Now, we will calculate the sum from 1 to 10"
      ]
    },
    {
      "cell_type": "code",
      "metadata": {
        "scrolled": true,
        "id": "ArPazK-AkkFZ",
        "colab": {
          "base_uri": "https://localhost:8080/"
        },
        "outputId": "08234f5a-9f62-4379-9df9-1767a9a96e21"
      },
      "source": [
        "#set global variable ~1 line\n",
        "#calculate the sum from 1 to 10, use global variable: 2 lines\n",
        "sum = 0\n",
        "for i in range(0,11):\n",
        "    sum = sum + i\n",
        "print (\"sum from 1 to 10 = \", sum)"
      ],
      "execution_count": null,
      "outputs": [
        {
          "output_type": "stream",
          "text": [
            "sum from 1 to 10 =  55\n"
          ],
          "name": "stdout"
        }
      ]
    },
    {
      "cell_type": "markdown",
      "metadata": {
        "id": "2x-S42RTkkFZ"
      },
      "source": [
        "##### output should be:\n",
        "```\n",
        "sum from 1 to 10 =  55\n",
        "```"
      ]
    },
    {
      "cell_type": "markdown",
      "metadata": {
        "id": "Qq_cKRwOkkFZ"
      },
      "source": [
        "A convenient and compact way to initialize lists:"
      ]
    },
    {
      "cell_type": "code",
      "metadata": {
        "id": "kAQg5onSkkFZ",
        "colab": {
          "base_uri": "https://localhost:8080/"
        },
        "outputId": "d1d4df2e-60d5-4acb-c752-c95b58e51de2"
      },
      "source": [
        "l1 = [x**2 for x in range(0,5)]\n",
        "\n",
        "print(l1)"
      ],
      "execution_count": null,
      "outputs": [
        {
          "output_type": "stream",
          "text": [
            "[0, 1, 4, 9, 16]\n"
          ],
          "name": "stdout"
        }
      ]
    },
    {
      "cell_type": "code",
      "metadata": {
        "id": "x1kU3j2xkkFZ",
        "colab": {
          "base_uri": "https://localhost:8080/"
        },
        "outputId": "b8825135-b70c-44fc-fc6a-54cd1256bcf3"
      },
      "source": [
        "i = 0\n",
        "\n",
        "while i < 5:\n",
        "    print(i)\n",
        "    \n",
        "    i = i + 1\n",
        "    \n",
        "print (\"sum = \", i)\n",
        "print (\"done\")"
      ],
      "execution_count": null,
      "outputs": [
        {
          "output_type": "stream",
          "text": [
            "0\n",
            "1\n",
            "2\n",
            "3\n",
            "4\n",
            "sum =  5\n",
            "done\n"
          ],
          "name": "stdout"
        }
      ]
    },
    {
      "cell_type": "markdown",
      "metadata": {
        "id": "SBFBrW9vkkFZ"
      },
      "source": [
        "### Functions"
      ]
    },
    {
      "cell_type": "code",
      "metadata": {
        "id": "L6m8MuwGkkFZ"
      },
      "source": [
        "def func0():  \n",
        "    #print out the \"test\": line 1\n",
        "    print (\"test\")"
      ],
      "execution_count": null,
      "outputs": []
    },
    {
      "cell_type": "code",
      "metadata": {
        "id": "9okeL0vMkkFa",
        "colab": {
          "base_uri": "https://localhost:8080/"
        },
        "outputId": "de68b31a-1135-4e4a-d284-5c0e78b139a7"
      },
      "source": [
        "func0()"
      ],
      "execution_count": null,
      "outputs": [
        {
          "output_type": "stream",
          "text": [
            "test\n"
          ],
          "name": "stdout"
        }
      ]
    },
    {
      "cell_type": "markdown",
      "metadata": {
        "id": "9YKV2ZOVkkFa"
      },
      "source": [
        "##### output should be:\n",
        "```\n",
        "test\n",
        "```"
      ]
    },
    {
      "cell_type": "code",
      "metadata": {
        "id": "0ueeFSAUkkFa"
      },
      "source": [
        "def func1(s):\n",
        "    \"\"\"\n",
        "    Print a string 's' and tell how many characters it has    \n",
        "    \"\"\"\n",
        "    print(s + \" has \" + str(len(s)) + \" characters\")"
      ],
      "execution_count": null,
      "outputs": []
    },
    {
      "cell_type": "code",
      "metadata": {
        "id": "lRt_z8PAkkFa",
        "colab": {
          "base_uri": "https://localhost:8080/"
        },
        "outputId": "17782dee-f593-4b78-9586-c20da753c33f"
      },
      "source": [
        "help(func1)"
      ],
      "execution_count": null,
      "outputs": [
        {
          "output_type": "stream",
          "text": [
            "Help on function func1 in module __main__:\n",
            "\n",
            "func1(s)\n",
            "    Print a string 's' and tell how many characters it has\n",
            "\n"
          ],
          "name": "stdout"
        }
      ]
    },
    {
      "cell_type": "code",
      "metadata": {
        "id": "_kwfS-HdkkFa",
        "colab": {
          "base_uri": "https://localhost:8080/"
        },
        "outputId": "10c2f21b-8e85-48fe-9a0d-fccc776b60cb"
      },
      "source": [
        "func1(\"test\")"
      ],
      "execution_count": null,
      "outputs": [
        {
          "output_type": "stream",
          "text": [
            "test has 4 characters\n"
          ],
          "name": "stdout"
        }
      ]
    },
    {
      "cell_type": "code",
      "metadata": {
        "id": "Moh5hiBZkkFa"
      },
      "source": [
        "def square(x):\n",
        "    \"\"\"\n",
        "    Return the square of x.\n",
        "    \"\"\"\n",
        "    return x ** 2"
      ],
      "execution_count": null,
      "outputs": []
    },
    {
      "cell_type": "code",
      "metadata": {
        "id": "lCx5kiC3kkFa",
        "colab": {
          "base_uri": "https://localhost:8080/"
        },
        "outputId": "c9f99c88-e810-45d5-cfbb-7e81e2cd7e33"
      },
      "source": [
        "square(4)"
      ],
      "execution_count": null,
      "outputs": [
        {
          "output_type": "execute_result",
          "data": {
            "text/plain": [
              "16"
            ]
          },
          "metadata": {
            "tags": []
          },
          "execution_count": 87
        }
      ]
    },
    {
      "cell_type": "code",
      "metadata": {
        "id": "eDCpcLNkkkFb"
      },
      "source": [
        "def powers(x):\n",
        "    \"\"\"\n",
        "    Return a few powers of x.\n",
        "    \"\"\"\n",
        "    return x ** 2, x ** 3, x ** 4"
      ],
      "execution_count": null,
      "outputs": []
    },
    {
      "cell_type": "code",
      "metadata": {
        "id": "HFFMupe9kkFb",
        "colab": {
          "base_uri": "https://localhost:8080/"
        },
        "outputId": "767418c7-8ece-4338-8b09-5c9f12e93923"
      },
      "source": [
        "powers(3)"
      ],
      "execution_count": null,
      "outputs": [
        {
          "output_type": "execute_result",
          "data": {
            "text/plain": [
              "(9, 27, 81)"
            ]
          },
          "metadata": {
            "tags": []
          },
          "execution_count": 89
        }
      ]
    },
    {
      "cell_type": "code",
      "metadata": {
        "id": "VZ0irQaAkkFb"
      },
      "source": [
        "x2, x3, x4 = powers(3)"
      ],
      "execution_count": null,
      "outputs": []
    },
    {
      "cell_type": "code",
      "metadata": {
        "id": "whIHikvMkkFb",
        "colab": {
          "base_uri": "https://localhost:8080/"
        },
        "outputId": "df9a4c00-60ce-4fa4-eb75-53f422a57fcb"
      },
      "source": [
        "print(x3)"
      ],
      "execution_count": null,
      "outputs": [
        {
          "output_type": "stream",
          "text": [
            "27\n"
          ],
          "name": "stdout"
        }
      ]
    },
    {
      "cell_type": "code",
      "metadata": {
        "id": "m2eHjIQNkkFb"
      },
      "source": [
        "def myfunc(x, p=2, debug=False):\n",
        "    if debug:\n",
        "        print(\"evaluating myfunc for x = \" + str(x) + \" using exponent p = \" + str(p))\n",
        "    return x**p"
      ],
      "execution_count": null,
      "outputs": []
    },
    {
      "cell_type": "markdown",
      "metadata": {
        "id": "ccEA40iVkkFb"
      },
      "source": [
        "If we don't provide a value of the debug argument when calling the the function myfunc it defaults to the value provided in the function definition:"
      ]
    },
    {
      "cell_type": "code",
      "metadata": {
        "id": "107exVgCkkFb",
        "colab": {
          "base_uri": "https://localhost:8080/"
        },
        "outputId": "6a0c9b71-3faa-44e8-9d38-57aaefd5ba3a"
      },
      "source": [
        "myfunc(5)"
      ],
      "execution_count": null,
      "outputs": [
        {
          "output_type": "execute_result",
          "data": {
            "text/plain": [
              "25"
            ]
          },
          "metadata": {
            "tags": []
          },
          "execution_count": 93
        }
      ]
    },
    {
      "cell_type": "code",
      "metadata": {
        "id": "rZ_4t19SkkFb",
        "colab": {
          "base_uri": "https://localhost:8080/"
        },
        "outputId": "b4421001-4079-4dd5-c8f7-bf3e6458fd0e"
      },
      "source": [
        "myfunc(5, debug=True)"
      ],
      "execution_count": null,
      "outputs": [
        {
          "output_type": "stream",
          "text": [
            "evaluating myfunc for x = 5 using exponent p = 2\n"
          ],
          "name": "stdout"
        },
        {
          "output_type": "execute_result",
          "data": {
            "text/plain": [
              "25"
            ]
          },
          "metadata": {
            "tags": []
          },
          "execution_count": 94
        }
      ]
    },
    {
      "cell_type": "markdown",
      "metadata": {
        "id": "q7eyETMqkkFc"
      },
      "source": [
        "If we explicitly list the name of the arguments in the function calls, they do not need to come in the same order as in the function definition. This is called keyword arguments, and is often very useful in functions that takes a lot of optional arguments."
      ]
    },
    {
      "cell_type": "code",
      "metadata": {
        "id": "pA_OxsP2kkFc",
        "colab": {
          "base_uri": "https://localhost:8080/"
        },
        "outputId": "228049cb-b9ef-4a4e-916f-c8f4ffcc7110"
      },
      "source": [
        "myfunc(p=3, debug=True, x=7)"
      ],
      "execution_count": null,
      "outputs": [
        {
          "output_type": "stream",
          "text": [
            "evaluating myfunc for x = 7 using exponent p = 3\n"
          ],
          "name": "stdout"
        },
        {
          "output_type": "execute_result",
          "data": {
            "text/plain": [
              "343"
            ]
          },
          "metadata": {
            "tags": []
          },
          "execution_count": 95
        }
      ]
    },
    {
      "cell_type": "markdown",
      "metadata": {
        "id": "67o7RFy6kkFc"
      },
      "source": [
        "### Classes"
      ]
    },
    {
      "cell_type": "markdown",
      "metadata": {
        "id": "H2SFsrGskkFc"
      },
      "source": [
        "Python is also object-oriented programming. Like c++, understanding class is important in object-oriented programming. \n",
        "You can think of a class as a template. With the template, many objects can be created. An object is an instance of a class. The class contains attributes (variables) and methods (functions).\n",
        "\n",
        "Each method should have an argument self as its first argument.\n",
        "Example:\n",
        "\n",
        "    def speed(self, dx, dy, dz):"
      ]
    },
    {
      "cell_type": "markdown",
      "metadata": {
        "id": "-zyHt9YnkkFc"
      },
      "source": [
        "Some method names have special meaning.    \n",
        "Example:\n",
        "\n",
        "    __init__: The name of the method that is invoked when the object is first created.\n",
        "\n",
        "    __str__ : A method that is invoked when a simple string representation of the class is needed, as for example when printed."
      ]
    },
    {
      "cell_type": "code",
      "metadata": {
        "id": "j_7ofoTkkkFc"
      },
      "source": [
        "class Particle:\n",
        "    \"\"\"\n",
        "    Simple class for representing a particle in a Cartesian coordinate system.\n",
        "    \"\"\"\n",
        "    \n",
        "    def __init__(self, x, y, z, m):\n",
        "        \"\"\"\n",
        "        Create a new Point at x, y.\n",
        "        \"\"\"\n",
        "        self.x = x\n",
        "        self.y = y\n",
        "        self.z = z\n",
        "        self.m = m \n",
        "        \n",
        "        \n",
        "    def speed(self, dx, dy, dz):\n",
        "        \"\"\"\n",
        "        speed up the particle by dx and dy and dz in the x and y and z direction.\n",
        "        \"\"\"\n",
        "        ## increase the speed of the particle: 3 lines \n",
        "        self.x += dx\n",
        "        self.y += dy\n",
        "        self.z += dz\n",
        "    \n",
        "    def mass(self, dm):\n",
        "        \"\"\"\n",
        "        increase the mass of the particle \n",
        "        \"\"\"\n",
        "        self.m += dm\n",
        "        \n",
        "    def __str__(self):\n",
        "        return(\"particle with [%f, %f, %f, %f]\" % (self.x, self.y, self.z, self.m))"
      ],
      "execution_count": null,
      "outputs": []
    },
    {
      "cell_type": "markdown",
      "metadata": {
        "id": "TOjW1JsFkkFc"
      },
      "source": [
        "To create an object (a new instance of a class):"
      ]
    },
    {
      "cell_type": "code",
      "metadata": {
        "id": "f5QsA2kHkkFd",
        "colab": {
          "base_uri": "https://localhost:8080/"
        },
        "outputId": "36521a27-167c-472e-cb12-7d96d70514f1"
      },
      "source": [
        "p1 = Particle(0, 0, 0, 0) # this will invoke the __init__ method in the Point class\n",
        "\n",
        "print (p1)          # this will invoke the __str__ method"
      ],
      "execution_count": null,
      "outputs": [
        {
          "output_type": "stream",
          "text": [
            "particle with [0.000000, 0.000000, 0.000000, 0.000000]\n"
          ],
          "name": "stdout"
        }
      ]
    },
    {
      "cell_type": "markdown",
      "metadata": {
        "id": "pqu1rZJqkkFd"
      },
      "source": [
        "Now you have to create a second particle with the speed of 1,1,1 and the mass of 1:"
      ]
    },
    {
      "cell_type": "code",
      "metadata": {
        "scrolled": true,
        "id": "7Hb8wHA9kkFd",
        "colab": {
          "base_uri": "https://localhost:8080/"
        },
        "outputId": "47bbbd51-f10d-4e70-8b38-63ed62591ffc"
      },
      "source": [
        "#create a second particle\n",
        "p2 = Particle(1, 1, 1, 1)\n",
        "\n",
        "#increase the speed of the particle 1 by 0.25 in x, 1.5 in y and 3.5 in z\n",
        "\n",
        "print(p1)\n",
        "print(p2)"
      ],
      "execution_count": null,
      "outputs": [
        {
          "output_type": "stream",
          "text": [
            "particle with [0.000000, 0.000000, 0.000000, 0.000000]\n",
            "particle with [1.000000, 1.000000, 1.000000, 1.000000]\n"
          ],
          "name": "stdout"
        }
      ]
    },
    {
      "cell_type": "markdown",
      "metadata": {
        "id": "jBmiQumFkkFd"
      },
      "source": [
        "##### output should be:\n",
        "```\n",
        "particle with [0.250000, 1.500000, 3.500000, 0.000000] \n",
        "particle with [1.000000, 1.000000, 1.000000, 1.000000] \n",
        "```"
      ]
    },
    {
      "cell_type": "code",
      "metadata": {
        "id": "LonFG-hGkkFd",
        "colab": {
          "base_uri": "https://localhost:8080/"
        },
        "outputId": "df923a6d-d4bd-4e63-ead5-493632fd88ca"
      },
      "source": [
        "%%file myParticle.py\n",
        "\"\"\"\n",
        "Example of a python module. Contains a variable called myMass,\n",
        "a function called Mass, and a class called Particle.\n",
        "\"\"\"\n",
        "\n",
        "mymass = 0\n",
        "\n",
        "def Mass():\n",
        "    \"\"\"\n",
        "    Example function\n",
        "    \"\"\"\n",
        "    return mymass\n",
        "    \n",
        "class Particle:\n",
        "    \"\"\"\n",
        "    Example class.\n",
        "    \"\"\"\n",
        "\n",
        "    def __init__(self):\n",
        "        self.variable = mymass\n",
        "        \n",
        "    def setMass(self, new_value):\n",
        "        \"\"\"\n",
        "        Set self.variable to a new value\n",
        "        \"\"\"\n",
        "        self.variable = new_value\n",
        "        \n",
        "    def getMass(self):\n",
        "        return self.variable\n"
      ],
      "execution_count": null,
      "outputs": [
        {
          "output_type": "stream",
          "text": [
            "Overwriting myParticle.py\n"
          ],
          "name": "stdout"
        }
      ]
    },
    {
      "cell_type": "code",
      "metadata": {
        "id": "wZeONtM_kkFd",
        "colab": {
          "base_uri": "https://localhost:8080/"
        },
        "outputId": "f9adedc1-a4d5-49fc-f6b5-a1b061b084d9"
      },
      "source": [
        "#check what is created\n",
        "!ls"
      ],
      "execution_count": null,
      "outputs": [
        {
          "output_type": "stream",
          "text": [
            "myParticle.py  __pycache__  sample_data  score.txt\n"
          ],
          "name": "stdout"
        }
      ]
    },
    {
      "cell_type": "code",
      "metadata": {
        "id": "lu5A_euFkkFe"
      },
      "source": [
        "import myParticle"
      ],
      "execution_count": null,
      "outputs": []
    },
    {
      "cell_type": "code",
      "metadata": {
        "id": "iEeDnM3VkkFe",
        "colab": {
          "base_uri": "https://localhost:8080/"
        },
        "outputId": "0513bee0-bb6f-4c24-fc59-d23882eb2b1b"
      },
      "source": [
        "#for exercise, compare the values from variable and function:\n",
        "#print \"mass value from global variable (myParticle.mymass) = \", \n",
        "#print \"mass value from the function (myParticle.Mass()) = \", \n",
        "print (\"mass value from global varibale (myParticle.mymass) = {}\".format(myParticle.mymass))\n",
        "print (\"mass value from the function (myParticle.Mass() = {})\".format(myParticle.Mass()))"
      ],
      "execution_count": null,
      "outputs": [
        {
          "output_type": "stream",
          "text": [
            "mass value from global varibale (myParticle.mymass) = 0\n",
            "mass value from the function (myParticle.Mass() = 0)\n"
          ],
          "name": "stdout"
        }
      ]
    },
    {
      "cell_type": "markdown",
      "metadata": {
        "id": "qX7WdKQPkkFe"
      },
      "source": [
        "##### output should be:\n",
        "```\n",
        "mass value from global variable (myParticle.mymass) =  0\n",
        "mass value from the function (myParticle.Mass()) =  0\n",
        "```"
      ]
    },
    {
      "cell_type": "code",
      "metadata": {
        "id": "YwExYAPfkkFe",
        "colab": {
          "base_uri": "https://localhost:8080/"
        },
        "outputId": "80c7663f-1755-4859-9a9d-c91cd36f8833"
      },
      "source": [
        "help(myParticle)"
      ],
      "execution_count": null,
      "outputs": [
        {
          "output_type": "stream",
          "text": [
            "Help on module myParticle:\n",
            "\n",
            "NAME\n",
            "    myParticle\n",
            "\n",
            "DESCRIPTION\n",
            "    Example of a python module. Contains a variable called myMass,\n",
            "    a function called Mass, and a class called Particle.\n",
            "\n",
            "CLASSES\n",
            "    builtins.object\n",
            "        Particle\n",
            "    \n",
            "    class Particle(builtins.object)\n",
            "     |  Example class.\n",
            "     |  \n",
            "     |  Methods defined here:\n",
            "     |  \n",
            "     |  __init__(self)\n",
            "     |      Initialize self.  See help(type(self)) for accurate signature.\n",
            "     |  \n",
            "     |  getMass(self)\n",
            "     |  \n",
            "     |  setMass(self, new_value)\n",
            "     |      Set self.variable to a new value\n",
            "     |  \n",
            "     |  ----------------------------------------------------------------------\n",
            "     |  Data descriptors defined here:\n",
            "     |  \n",
            "     |  __dict__\n",
            "     |      dictionary for instance variables (if defined)\n",
            "     |  \n",
            "     |  __weakref__\n",
            "     |      list of weak references to the object (if defined)\n",
            "\n",
            "FUNCTIONS\n",
            "    Mass()\n",
            "        Example function\n",
            "\n",
            "DATA\n",
            "    mymass = 0\n",
            "\n",
            "FILE\n",
            "    /content/myParticle.py\n",
            "\n",
            "\n"
          ],
          "name": "stdout"
        }
      ]
    },
    {
      "cell_type": "markdown",
      "metadata": {
        "id": "DH3YbqILkkFe"
      },
      "source": [
        "Can you set the mass of 10 and print out?"
      ]
    },
    {
      "cell_type": "code",
      "metadata": {
        "id": "fPi8r_EXkkFe",
        "colab": {
          "base_uri": "https://localhost:8080/"
        },
        "outputId": "e87bdef6-0d00-435c-f195-ee37e11a1eef"
      },
      "source": [
        "#set the particle mass as 10 \n",
        "my_class = myParticle.Particle() \n",
        "#hint\n",
        "#you need to set the mass and get the mass: 2 lines\n",
        "my_class.setMass(10)\n",
        "print(my_class.getMass())"
      ],
      "execution_count": null,
      "outputs": [
        {
          "output_type": "stream",
          "text": [
            "10\n"
          ],
          "name": "stdout"
        }
      ]
    },
    {
      "cell_type": "markdown",
      "metadata": {
        "id": "NFLudoDdkkFe"
      },
      "source": [
        "##### output should be:\n",
        "```\n",
        "10\n",
        "```"
      ]
    },
    {
      "cell_type": "markdown",
      "metadata": {
        "id": "ImxA5neVkkFe"
      },
      "source": [
        "##### examples to raise error message"
      ]
    },
    {
      "cell_type": "code",
      "metadata": {
        "id": "Km9TcX4GkkFf",
        "colab": {
          "base_uri": "https://localhost:8080/",
          "height": 176
        },
        "outputId": "36b6c3cd-3aed-491e-cd55-306e4a213fab"
      },
      "source": [
        "raise Exception(\"description of the error\")"
      ],
      "execution_count": null,
      "outputs": [
        {
          "output_type": "error",
          "ename": "Exception",
          "evalue": "ignored",
          "traceback": [
            "\u001b[0;31m---------------------------------------------------------------------------\u001b[0m",
            "\u001b[0;31mException\u001b[0m                                 Traceback (most recent call last)",
            "\u001b[0;32m<ipython-input-106-c32f93e4dfa0>\u001b[0m in \u001b[0;36m<module>\u001b[0;34m()\u001b[0m\n\u001b[0;32m----> 1\u001b[0;31m \u001b[0;32mraise\u001b[0m \u001b[0mException\u001b[0m\u001b[0;34m(\u001b[0m\u001b[0;34m\"description of the error\"\u001b[0m\u001b[0;34m)\u001b[0m\u001b[0;34m\u001b[0m\u001b[0;34m\u001b[0m\u001b[0m\n\u001b[0m",
            "\u001b[0;31mException\u001b[0m: description of the error"
          ]
        }
      ]
    },
    {
      "cell_type": "code",
      "metadata": {
        "id": "pGmOHMB8kkFf",
        "colab": {
          "base_uri": "https://localhost:8080/"
        },
        "outputId": "954db012-190c-4088-dc64-b6a56aba1f09"
      },
      "source": [
        "try:\n",
        "    print(\"test\")\n",
        "         # generate an error: the variable test is not defined# generat \n",
        "    print(test)\n",
        "except:\n",
        "    print(\"Caught an exception\")"
      ],
      "execution_count": null,
      "outputs": [
        {
          "output_type": "stream",
          "text": [
            "test\n",
            "Caught an exception\n"
          ],
          "name": "stdout"
        }
      ]
    },
    {
      "cell_type": "code",
      "metadata": {
        "id": "gXQfBSs2kkFf",
        "colab": {
          "base_uri": "https://localhost:8080/"
        },
        "outputId": "50b8e68d-ef5b-46f7-b10f-e261d3533f04"
      },
      "source": [
        "try:\n",
        "    print(\"test\")\n",
        "    # generate an error: the variable test is not defined\n",
        "    print(test)\n",
        "except Exception as e:\n",
        "    print(\"Caught an exception:\" + str(e))"
      ],
      "execution_count": null,
      "outputs": [
        {
          "output_type": "stream",
          "text": [
            "test\n",
            "Caught an exception:name 'test' is not defined\n"
          ],
          "name": "stdout"
        }
      ]
    },
    {
      "cell_type": "markdown",
      "metadata": {
        "id": "BcC9-mE3kkFf"
      },
      "source": [
        "### Task 1 "
      ]
    },
    {
      "cell_type": "markdown",
      "metadata": {
        "id": "2Dqf5C_fkkFf"
      },
      "source": [
        "There are 26 students. Use the code below to read out the score for 10 students. \n",
        "Can you write a code to print out the average and the list of students with the highest score of 20% and also the list of 50%?"
      ]
    },
    {
      "cell_type": "code",
      "metadata": {
        "colab": {
          "base_uri": "https://localhost:8080/"
        },
        "id": "d8iDioAbGRIl",
        "outputId": "027c9dac-2f0f-442d-e54a-d0d2c5ff4c4d"
      },
      "source": [
        "pip install namegenerator"
      ],
      "execution_count": null,
      "outputs": [
        {
          "output_type": "stream",
          "text": [
            "Requirement already satisfied: namegenerator in /usr/local/lib/python3.7/dist-packages (1.0.6)\n"
          ],
          "name": "stdout"
        }
      ]
    },
    {
      "cell_type": "code",
      "metadata": {
        "id": "MdwMsCrdK-Uk"
      },
      "source": [
        "import random\r\n",
        "import namegenerator as namegen\r\n",
        "\r\n",
        "total_num = 26\r\n",
        "\r\n",
        "with open('score.txt', 'w+') as fp:\r\n",
        "    for i in range(total_num):\r\n",
        "        fp.write(\"{}, {}\".format(namegen.gen(separator='_'), \r\n",
        "                str(random.randint(50,100))) +\"\\n\") "
      ],
      "execution_count": null,
      "outputs": []
    },
    {
      "cell_type": "code",
      "metadata": {
        "id": "hz8VKDWSkkFf",
        "colab": {
          "base_uri": "https://localhost:8080/"
        },
        "outputId": "595c563e-0e5e-40b5-b01c-23a2e213de8f"
      },
      "source": [
        "average = 0\n",
        "high20 = []\n",
        "high50 = []\n",
        "total = []\n",
        "with open(\"score.txt\") as fp:  \n",
        "   line = fp.readline()\n",
        "   while line:               \n",
        "        print (line)                    \n",
        "        nline = line.rstrip('\\n').split(',')   \n",
        "        total.append((nline[0], int(nline[1])))\n",
        "        average += int(nline[1])\n",
        "        line = fp.readline()\n",
        "\n",
        "print('')\n",
        "total.sort(key=lambda x:-x[1])\n",
        "print(\"Students' average grade is {}\".format('%0.2f'%(average/26)))\n",
        "print('')\n",
        "print(\"Highest score of 20%: \")\n",
        "print(total[:int(26*0.2)])\n",
        "print('')\n",
        "print(\"Highest score of 50%: \")\n",
        "print(total[:int(26*0.5)])\n",
        "print('')"
      ],
      "execution_count": null,
      "outputs": [
        {
          "output_type": "stream",
          "text": [
            "flaky_ecru_dragon, 76\n",
            "\n",
            "wheezy_turquoise_mayfly, 94\n",
            "\n",
            "geeky_white_warthog, 70\n",
            "\n",
            "foggy_burgundy_balinese, 55\n",
            "\n",
            "muzzy_auburn_markhor, 59\n",
            "\n",
            "chummy_amethyst_cuttlefish, 96\n",
            "\n",
            "flabby_cream_cichlid, 77\n",
            "\n",
            "lovely_pear_burmese, 71\n",
            "\n",
            "zippy_linen_beetle, 63\n",
            "\n",
            "squirrely_thistle_kingfisher, 72\n",
            "\n",
            "gummy_malachite_bracke, 100\n",
            "\n",
            "frumpy_denim_termite, 84\n",
            "\n",
            "muzzy_brass_whippet, 89\n",
            "\n",
            "lumpy_alizarin_lizard, 58\n",
            "\n",
            "snippy_amaranth_tarsier, 88\n",
            "\n",
            "messy_pear_gar, 83\n",
            "\n",
            "breezy_lilac_setter, 76\n",
            "\n",
            "sunny_sepia_beaver, 67\n",
            "\n",
            "trippy_tan_hound, 74\n",
            "\n",
            "wiggy_ochre_oyster, 54\n",
            "\n",
            "goopy_sapphire_stoat, 83\n",
            "\n",
            "skimpy_orange_birman, 65\n",
            "\n",
            "chummy_sapphire_tiger, 60\n",
            "\n",
            "thirsty_orchid_abyssinian, 87\n",
            "\n",
            "trippy_jade_bat, 59\n",
            "\n",
            "nerdy_heliotrope_bonobo, 60\n",
            "\n",
            "\n",
            "Students' average grade is 73.85\n",
            "\n",
            "Highest score of 20%: \n",
            "[('gummy_malachite_bracke', 100), ('chummy_amethyst_cuttlefish', 96), ('wheezy_turquoise_mayfly', 94), ('muzzy_brass_whippet', 89), ('snippy_amaranth_tarsier', 88)]\n",
            "\n",
            "Highest score of 50%: \n",
            "[('gummy_malachite_bracke', 100), ('chummy_amethyst_cuttlefish', 96), ('wheezy_turquoise_mayfly', 94), ('muzzy_brass_whippet', 89), ('snippy_amaranth_tarsier', 88), ('thirsty_orchid_abyssinian', 87), ('frumpy_denim_termite', 84), ('messy_pear_gar', 83), ('goopy_sapphire_stoat', 83), ('flabby_cream_cichlid', 77), ('flaky_ecru_dragon', 76), ('breezy_lilac_setter', 76), ('trippy_tan_hound', 74)]\n",
            "\n"
          ],
          "name": "stdout"
        }
      ]
    },
    {
      "cell_type": "markdown",
      "metadata": {
        "id": "O6EtFjHskkFf"
      },
      "source": [
        "### Numpy\n",
        "\n",
        "Numpy is the library package for scientific computing with Python. Basically, it deals with a N-dimensional array object.\n",
        "In deep learning which we will cover later, matrix is essential so numpy will be used extensively throughout the course later. "
      ]
    },
    {
      "cell_type": "code",
      "metadata": {
        "id": "Nr3c8w9kkkFf"
      },
      "source": [
        "import numpy as np"
      ],
      "execution_count": null,
      "outputs": []
    },
    {
      "cell_type": "code",
      "metadata": {
        "id": "IOZLAeW1kkFg"
      },
      "source": [
        "x = np.array([1,2,3])"
      ],
      "execution_count": null,
      "outputs": []
    },
    {
      "cell_type": "code",
      "metadata": {
        "id": "PaAUj1M7kkFg",
        "colab": {
          "base_uri": "https://localhost:8080/"
        },
        "outputId": "5651cb96-c0e1-4810-c0c0-56d73042f594"
      },
      "source": [
        "x.__class__"
      ],
      "execution_count": null,
      "outputs": [
        {
          "output_type": "execute_result",
          "data": {
            "text/plain": [
              "numpy.ndarray"
            ]
          },
          "metadata": {
            "tags": []
          },
          "execution_count": 114
        }
      ]
    },
    {
      "cell_type": "markdown",
      "metadata": {
        "id": "MeOc3hdhkkFg"
      },
      "source": [
        "#### shape\n",
        "\n",
        "It is of importance to check the shape of the matrix to perform any operators "
      ]
    },
    {
      "cell_type": "code",
      "metadata": {
        "id": "hr07TckEkkFg",
        "colab": {
          "base_uri": "https://localhost:8080/"
        },
        "outputId": "b13545d4-499e-4541-e244-db9ebcef1a24"
      },
      "source": [
        "x.shape"
      ],
      "execution_count": null,
      "outputs": [
        {
          "output_type": "execute_result",
          "data": {
            "text/plain": [
              "(3,)"
            ]
          },
          "metadata": {
            "tags": []
          },
          "execution_count": 115
        }
      ]
    },
    {
      "cell_type": "code",
      "metadata": {
        "id": "OCY_dL4ukkFg",
        "colab": {
          "base_uri": "https://localhost:8080/"
        },
        "outputId": "60595fd2-7d9e-4ed1-e60b-404cb65edf10"
      },
      "source": [
        "x.ndim"
      ],
      "execution_count": null,
      "outputs": [
        {
          "output_type": "execute_result",
          "data": {
            "text/plain": [
              "1"
            ]
          },
          "metadata": {
            "tags": []
          },
          "execution_count": 116
        }
      ]
    },
    {
      "cell_type": "code",
      "metadata": {
        "id": "OzJ8-kOqkkFg"
      },
      "source": [
        "W = np.array([[1,2,3],[4,5,6]])"
      ],
      "execution_count": null,
      "outputs": []
    },
    {
      "cell_type": "markdown",
      "metadata": {
        "id": "JeJ446ZgkkFh"
      },
      "source": [
        "### Task 2"
      ]
    },
    {
      "cell_type": "code",
      "metadata": {
        "id": "zLMzQyvbkkFh",
        "colab": {
          "base_uri": "https://localhost:8080/"
        },
        "outputId": "9f7fdf7e-a0a7-4300-aa75-3fc06a8df9b4"
      },
      "source": [
        "W.shape == (2,3) # make the answer True"
      ],
      "execution_count": null,
      "outputs": [
        {
          "output_type": "execute_result",
          "data": {
            "text/plain": [
              "True"
            ]
          },
          "metadata": {
            "tags": []
          },
          "execution_count": 118
        }
      ]
    },
    {
      "cell_type": "markdown",
      "metadata": {
        "id": "Mpokk6kCkkFh"
      },
      "source": [
        "##### answer:\n",
        "```\n",
        "True \n",
        "```"
      ]
    },
    {
      "cell_type": "code",
      "metadata": {
        "id": "TjRW7ZXNkkFh",
        "colab": {
          "base_uri": "https://localhost:8080/"
        },
        "outputId": "ccc2d3c8-cf16-45de-d0b9-668b91095dd6"
      },
      "source": [
        "W.ndim # check the dimension of the tensor"
      ],
      "execution_count": null,
      "outputs": [
        {
          "output_type": "execute_result",
          "data": {
            "text/plain": [
              "2"
            ]
          },
          "metadata": {
            "tags": []
          },
          "execution_count": 119
        }
      ]
    },
    {
      "cell_type": "markdown",
      "metadata": {
        "id": "H1b7-HCKkkFh"
      },
      "source": [
        "#### element wise operator"
      ]
    },
    {
      "cell_type": "code",
      "metadata": {
        "id": "vAaEHOGlkkFh"
      },
      "source": [
        "W = np.array([[1,2,3],[3,4,5]])"
      ],
      "execution_count": null,
      "outputs": []
    },
    {
      "cell_type": "code",
      "metadata": {
        "id": "JtmmvTU0kkFh"
      },
      "source": [
        "X = np.array([[0,1,2],[3,4,5]])"
      ],
      "execution_count": null,
      "outputs": []
    },
    {
      "cell_type": "code",
      "metadata": {
        "id": "AaEriAAtkkFi",
        "colab": {
          "base_uri": "https://localhost:8080/"
        },
        "outputId": "4947281d-02a5-4963-8527-1cafe6e8470c"
      },
      "source": [
        "W+X"
      ],
      "execution_count": null,
      "outputs": [
        {
          "output_type": "execute_result",
          "data": {
            "text/plain": [
              "array([[ 1,  3,  5],\n",
              "       [ 6,  8, 10]])"
            ]
          },
          "metadata": {
            "tags": []
          },
          "execution_count": 122
        }
      ]
    },
    {
      "cell_type": "code",
      "metadata": {
        "id": "PyDSo_21kkFi",
        "colab": {
          "base_uri": "https://localhost:8080/"
        },
        "outputId": "ec35224d-9949-47c6-bfe4-00097f399dd9"
      },
      "source": [
        "W*X"
      ],
      "execution_count": null,
      "outputs": [
        {
          "output_type": "execute_result",
          "data": {
            "text/plain": [
              "array([[ 0,  2,  6],\n",
              "       [ 9, 16, 25]])"
            ]
          },
          "metadata": {
            "tags": []
          },
          "execution_count": 123
        }
      ]
    },
    {
      "cell_type": "markdown",
      "metadata": {
        "id": "0RQwI8z2kkFi"
      },
      "source": [
        "#### broadcast\n",
        "\n",
        "With this broadcast, it becomes possible to calculate betweent two matrices with different shapes. "
      ]
    },
    {
      "cell_type": "code",
      "metadata": {
        "id": "0P1hAenwkkFi"
      },
      "source": [
        "A = np.array([[1,2],[3,4]])"
      ],
      "execution_count": null,
      "outputs": []
    },
    {
      "cell_type": "code",
      "metadata": {
        "id": "vYDFnqQSkkFi",
        "colab": {
          "base_uri": "https://localhost:8080/"
        },
        "outputId": "5e87b9bc-5f83-4cad-cdfb-ee6e5da60292"
      },
      "source": [
        "A*10"
      ],
      "execution_count": null,
      "outputs": [
        {
          "output_type": "execute_result",
          "data": {
            "text/plain": [
              "array([[10, 20],\n",
              "       [30, 40]])"
            ]
          },
          "metadata": {
            "tags": []
          },
          "execution_count": 125
        }
      ]
    },
    {
      "cell_type": "markdown",
      "metadata": {
        "id": "ln0z6fsAkkFi"
      },
      "source": [
        "Below, two matrices A and b have different shapes. A is $2 \\times 2$ and b is $1 \\times 2$. In the broadcast, b can be extended to $2 \\times 2$. \n",
        "\n",
        "A is \n",
        "$\n",
        "\\begin{pmatrix}\n",
        "1 & 2 \\\\\n",
        "3 & 4\n",
        "\\end{pmatrix}\n",
        "$\n",
        "\n",
        "b becomes \n",
        "$\n",
        "\\begin{pmatrix}\n",
        "10 & 20 \\\\\n",
        "10 & 20\n",
        "\\end{pmatrix}\n",
        "$\n",
        "\n",
        "A*b =\n",
        "$\n",
        "\\begin{pmatrix}\n",
        "1 \\times 10 & 2 \\times 20 \\\\\n",
        "3 \\times 10 & 4 \\times 20\n",
        "\\end{pmatrix}\n",
        "$ =\n",
        "$\n",
        "\\begin{pmatrix}\n",
        "10 & 40 \\\\\n",
        "40 & 80\n",
        "\\end{pmatrix}\n",
        "$\n"
      ]
    },
    {
      "cell_type": "code",
      "metadata": {
        "id": "7P-x_ur9kkFi"
      },
      "source": [
        "A = np.array([[1,2],[3,4]])\n",
        "b = np.array([10,20])"
      ],
      "execution_count": null,
      "outputs": []
    },
    {
      "cell_type": "code",
      "metadata": {
        "id": "jZ3L7wjmkkFi",
        "colab": {
          "base_uri": "https://localhost:8080/"
        },
        "outputId": "e1bf0440-37f8-4b8a-cdd5-1f38cc427909"
      },
      "source": [
        "A*b"
      ],
      "execution_count": null,
      "outputs": [
        {
          "output_type": "execute_result",
          "data": {
            "text/plain": [
              "array([[10, 40],\n",
              "       [30, 80]])"
            ]
          },
          "metadata": {
            "tags": []
          },
          "execution_count": 127
        }
      ]
    },
    {
      "cell_type": "markdown",
      "metadata": {
        "id": "v2ExLBgdjbdC"
      },
      "source": [
        ""
      ]
    },
    {
      "cell_type": "markdown",
      "metadata": {
        "id": "oJq4jVmikkFj"
      },
      "source": [
        "#### dot product"
      ]
    },
    {
      "cell_type": "code",
      "metadata": {
        "id": "4GV-e4itkkFj"
      },
      "source": [
        "a = np.array([1,2,3])\n",
        "b = np.array([4,5,6])"
      ],
      "execution_count": null,
      "outputs": []
    },
    {
      "cell_type": "code",
      "metadata": {
        "id": "DGLpi762kkFj",
        "colab": {
          "base_uri": "https://localhost:8080/"
        },
        "outputId": "d9b9a36d-30c8-4512-9831-ad895bbcfd5f"
      },
      "source": [
        "np.dot(a,b)"
      ],
      "execution_count": null,
      "outputs": [
        {
          "output_type": "execute_result",
          "data": {
            "text/plain": [
              "32"
            ]
          },
          "metadata": {
            "tags": []
          },
          "execution_count": 129
        }
      ]
    },
    {
      "cell_type": "markdown",
      "metadata": {
        "id": "xPrwVrUzkkFj"
      },
      "source": [
        "### Task 3\n",
        "\n",
        "A particle moving in the xy plane undergoes a displacement given by $\\Delta \\vec{r} = (2.0 \\hat{i} + 3.0 \\hat{j} + 5.0 \\hat{k}) $ m as a constant force $ \\vec{F} = (5.0 \\hat{i} + 2.0 \\hat{j})$ N acts on the particle. Calculate the workdone by $ \\vec{F}$ on the particle. "
      ]
    },
    {
      "cell_type": "code",
      "metadata": {
        "id": "NB9rsM_7kkFj",
        "colab": {
          "base_uri": "https://localhost:8080/"
        },
        "outputId": "ad3f89c4-1d8f-44fc-9a65-8b48eada3361"
      },
      "source": [
        "r =  np.array([2.0, 3.0, 5.0])\n",
        "F = np.array([5.0, 2.0, 0.0])\n",
        "W = np.dot(r,F)\n",
        "print(W)"
      ],
      "execution_count": null,
      "outputs": [
        {
          "output_type": "stream",
          "text": [
            "16.0\n"
          ],
          "name": "stdout"
        }
      ]
    },
    {
      "cell_type": "markdown",
      "metadata": {
        "id": "ewTdVJvgkkFj"
      },
      "source": [
        "#### Matrix multiplocation"
      ]
    },
    {
      "cell_type": "code",
      "metadata": {
        "id": "DuB2a7ACkkFj"
      },
      "source": [
        "A = np.array([[1,2],[3,4]])\n",
        "B = np.array([[5,6],[7,8]])"
      ],
      "execution_count": null,
      "outputs": []
    },
    {
      "cell_type": "code",
      "metadata": {
        "id": "WqS_c-FwkkFj",
        "colab": {
          "base_uri": "https://localhost:8080/"
        },
        "outputId": "58871a08-6547-4d91-8716-d27b92beef53"
      },
      "source": [
        "np.matmul(A,B)"
      ],
      "execution_count": null,
      "outputs": [
        {
          "output_type": "execute_result",
          "data": {
            "text/plain": [
              "array([[19, 22],\n",
              "       [43, 50]])"
            ]
          },
          "metadata": {
            "tags": []
          },
          "execution_count": 132
        }
      ]
    },
    {
      "cell_type": "markdown",
      "metadata": {
        "id": "9dreo4OEkkFj"
      },
      "source": [
        "### Task 4\n",
        "What would be the shape of the matrix x and b to run the code in following example?"
      ]
    },
    {
      "cell_type": "code",
      "metadata": {
        "id": "UlSYhKzEkkFk",
        "colab": {
          "base_uri": "https://localhost:8080/"
        },
        "outputId": "720171a1-1eac-4348-d433-0fa66f561697"
      },
      "source": [
        "x = np.array([[1,2,3],[4,5,6]]) ## correct and fill in the blank\n",
        "A = np.array([[1,2],[2,4],[3,6]])\n",
        "b = np.array([[1,2], [3,4]]) ## fill in the blank \n",
        "y = np.matmul(x, A) + b\n",
        "\n",
        "#check if the shape is correct\n",
        "y.shape == (2,2)\n",
        "\n"
      ],
      "execution_count": null,
      "outputs": [
        {
          "output_type": "execute_result",
          "data": {
            "text/plain": [
              "True"
            ]
          },
          "metadata": {
            "tags": []
          },
          "execution_count": 133
        }
      ]
    },
    {
      "cell_type": "markdown",
      "metadata": {
        "id": "jDOsfoA6kkFk"
      },
      "source": [
        "##### answer:\n",
        "```\n",
        "True \n",
        "```"
      ]
    }
  ]
}